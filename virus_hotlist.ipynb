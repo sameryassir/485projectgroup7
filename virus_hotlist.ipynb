{
 "cells": [
  {
   "cell_type": "code",
   "execution_count": 99,
   "metadata": {},
   "outputs": [],
   "source": [
    "import pandas as pd\n",
    "import numpy as np\n",
    "import pycountry\n",
    "import pycountry_convert as pc\n"
   ]
  },
  {
   "cell_type": "code",
   "execution_count": 100,
   "metadata": {},
   "outputs": [],
   "source": [
    "xls = pd.ExcelFile(r\"C:\\Users\\samer\\Downloads\\Virus_hotlist (2).xlsx\")"
   ]
  },
  {
   "cell_type": "code",
   "execution_count": 101,
   "metadata": {},
   "outputs": [],
   "source": [
    "viruses = [\"Adenoviridae\", \"Anelloviridae\", \"Arenaviridae\", \"Arteriviridae\", \"Astroviridae\", \"Bornaviridae\", \"Caliciviridae\", \"Coronaviridae\", \"Filoviridae\", \"Flaviviridae\", \"Hantaviridae\", \"Hepadnaviridae\", \"Hepeviridae\", \"Herpesviridae\", \"Nairoviridae\", \"Orthomyxoviridae\", \"Papillomaviridae\", \"Paramyxoviridae\", \"Parvoviridae\", \"Peribunyaviridae\", \"Phenuiviridae\", \"Picobirnaviridae\", \"Picornaviridae\", \"Pneumoviridae\", \"Polyomaviridae\", \"Poxviridae\", \"Reoviridae\", \"Retroviridae\", \"Rhabdoviridae\", \"Togaviridae\"]"
   ]
  },
  {
   "cell_type": "code",
   "execution_count": 143,
   "metadata": {},
   "outputs": [],
   "source": [
    "virus_data = {}\n",
    "\n",
    "region_to_continent = {\n",
    "    'asia': 'asia',\n",
    "    'africa': 'africa',\n",
    "    'north america': 'americas',\n",
    "    'oceania': 'oceania',\n",
    "    'south america': 'americas',\n",
    "    'northern europe': 'europe',\n",
    "    'russia': 'europe',\n",
    "    'northern asia': 'asia',\n",
    "    'great britain': 'europe',\n",
    "    'central africa': 'africa',\n",
    "    'europe': 'europe',\n",
    "    'papau new guinea': 'oceania',\n",
    "    'w siberia': 'asia',\n",
    "    'tuleniy island': 'asia',\n",
    "    'tropics': 'various',\n",
    "    'trinidad': 'americas',\n",
    "    'subtropics': 'various',\n",
    "    'subsaharan africa': 'africa',\n",
    "    'south brittany': 'europe',\n",
    "    'global': 'global',\n",
    "    'south': 'various',\n",
    "    'siberia': 'asia',\n",
    "    'central america': 'americas',\n",
    "    'americas': 'americas',\n",
    "    'columbia': 'americas',\n",
    "    'new guinea': 'oceania',\n",
    "    'new england': 'americas',\n",
    "    'micronesia': 'oceania',\n",
    "    'worldwide': 'global'\n",
    "}\n",
    "\n",
    "animal_host_mapping = {\n",
    "    'rodents': 'rodents',\n",
    "    'sheep': 'livestock',\n",
    "    'wild birds': 'birds',\n",
    "    'waterbirds': 'birds',\n",
    "    'woodchuck': 'rodents',\n",
    "    'cotton rat': 'rodents',\n",
    "    'deer mouse': 'rodents',\n",
    "    'turkey': 'birds',\n",
    "    'cattle': 'livestock',\n",
    "    'humans': 'primates',\n",
    "    'hares': 'rodents',\n",
    "    'grouse': 'birds',\n",
    "    'white-footed mouse': 'rodents',\n",
    "    'camels': 'livestock',\n",
    "    'monkeys': 'primates',\n",
    "    'non-human primates': 'primates',\n",
    "    'fur seals': 'livestock',\n",
    "    }\n",
    "\n",
    "def name_to_continent(name):\n",
    "    # Handle NaN values and lowercase conversion\n",
    "    if pd.isnull(name) or name == 'nan':\n",
    "        return 'Unknown'\n",
    "    name = name.lower()\n",
    "    # Check for region or special case mapping\n",
    "    if name in region_to_continent:\n",
    "        return region_to_continent[name]\n",
    "    try:\n",
    "        # Attempt to resolve country name to continent\n",
    "        country = pycountry.countries.lookup(name)\n",
    "        continent_code = pc.country_alpha2_to_continent_code(country.alpha_2)\n",
    "        continent_name = pc.convert_continent_code_to_continent_name(continent_code)\n",
    "        return continent_name\n",
    "    except:\n",
    "        # Fallback for unresolved names\n",
    "        return 'Unknown'\n",
    "\n",
    "def apply_animal_host_mapping(animal):\n",
    "    if pd.isna(animal):\n",
    "        return 'unknown'  # Handle NaN values explicitly\n",
    "    animal = animal.lower().strip()  # Normalize the case and strip any whitespace\n",
    "    return animal_host_mapping.get(animal, animal)\n",
    "\n",
    "for virus in viruses:\n",
    "    df = pd.read_excel(xls, sheet_name=virus)\n",
    "    # Check if 'Latin name' column exists and filter out citations\n",
    "    if 'Latin name' in df.columns:\n",
    "        citation_pattern = r'^\\d+\\.\\s*'\n",
    "        mask = df['Latin name'].str.match(citation_pattern).fillna(False)\n",
    "        df = df[~mask]\n",
    "    # Check if 'Animal host' column exists and remove any bracketed text\n",
    "    if 'Animal host' in df.columns:\n",
    "    # Use a more general regex pattern to also match non-numeric characters and multiple values in brackets\n",
    "        df['Animal host'] = df['Animal host'].astype(str).str.replace(r'\\s*\\[.*?\\]', '', regex=True)\n",
    "    # Replace and with comma\n",
    "        df['Animal host'] = df['Animal host'].astype(str).replace(' and ', ', ', regex=True)\n",
    "    # Remove question marks\n",
    "        df['Animal host'] = df['Animal host'].str.replace(r'\\?$', '', regex=True)\n",
    "    # Split the string on commas\n",
    "        df['Animal host'] = df['Animal host'].str.split(', ')\n",
    "    # Explode the list of animal hosts into separate rows\n",
    "        df = df.explode('Animal host')\n",
    "    # Map animal hosts to broader categories\n",
    "        df['Animal host'] = df['Animal host'].apply(apply_animal_host_mapping)\n",
    "\n",
    "\n",
    "    if 'Geographical Range' in df.columns:\n",
    "    # Remove any bracketed text\n",
    "        df['Geographical Range'] = df['Geographical Range'].astype(str).str.replace(r'\\s*\\[.*?\\]', '', regex=True)\n",
    "    # Replace USA with united states\n",
    "        df['Geographical Range'] = df['Geographical Range'].replace('USA', 'united states', regex=True)\n",
    "    # Replace and with comma\n",
    "        df['Geographical Range'] = df['Geographical Range'].astype(str).replace(' and ', ', ', regex=True)\n",
    "    # Split the string on commas\n",
    "        df['Geographical Range'] = df['Geographical Range'].str.split(', ')\n",
    "    # Explode the list of geographical ranges into separate rows\n",
    "        df = df.explode('Geographical Range')\n",
    "    # Convert geographical range to continent\n",
    "        df['Continent'] = df['Geographical Range'].apply(lambda x: name_to_continent(x) if pd.notna(x) else 'unknown')\n",
    "\n",
    "        df['Continent'] = df['Continent'].str.lower()  # Ensure lowercase for consistency\n",
    "        df.loc[df['Continent'].isin(['north america', 'south america']), 'Continent'] = 'americas'\n",
    "\n",
    "\n",
    "    # Check if the virus key exists in virus_data dictionary\n",
    "    if virus not in virus_data:\n",
    "        virus_data[virus] = {}\n",
    "\n",
    "    # Convert all string columns to lowercase\n",
    "    for col in df.select_dtypes(include=[object]).columns:\n",
    "        df[col] = df[col].str.lower()\n",
    "\n",
    "\n",
    "    virus_data[virus] = df"
   ]
  },
  {
   "cell_type": "code",
   "execution_count": 144,
   "metadata": {},
   "outputs": [
    {
     "data": {
      "text/plain": [
       "Geographical Range\n",
       "nan                         11\n",
       "malaysia                     7\n",
       "australia                    7\n",
       "united states                7\n",
       "africa                       7\n",
       "senegal                      6\n",
       "uganda                       5\n",
       "northern europe              5\n",
       "central african republic     5\n",
       "brazil                       4\n",
       "saudi arabia                 4\n",
       "thailand                     3\n",
       "great britain                3\n",
       "russia                       3\n",
       "papau new guinea             3\n",
       "cameroon                     3\n",
       "nigeria                      3\n",
       "asia                         3\n",
       "northern asia                3\n",
       "south africa                 2\n",
       "madagascar                   2\n",
       "japan                        2\n",
       "mongolia                     2\n",
       "tuleniy island               2\n",
       "canada                       2\n",
       "south                        1\n",
       "south america                1\n",
       "siberia                      1\n",
       "south brittany               1\n",
       "subsaharan africa            1\n",
       "subtropics                   1\n",
       "taiwan                       1\n",
       "trinidad                     1\n",
       "tropics                      1\n",
       "venezuela                    1\n",
       "w siberia                    1\n",
       "panama                       1\n",
       "afghanistan                  1\n",
       "northern australia           1\n",
       "new guinea                   1\n",
       "americas                     1\n",
       "cambodia                     1\n",
       "central africa               1\n",
       "central america              1\n",
       "china                        1\n",
       "columbia                     1\n",
       "ecuador                      1\n",
       "europe                       1\n",
       "france                       1\n",
       "global                       1\n",
       "guatemala                    1\n",
       "guinea                       1\n",
       "india                        1\n",
       "indonesia                    1\n",
       "israel                       1\n",
       "kyrgyzstan                   1\n",
       "mexico                       1\n",
       "micronesia                   1\n",
       "new england                  1\n",
       "worldwide                    1\n",
       "dtype: int64"
      ]
     },
     "execution_count": 144,
     "metadata": {},
     "output_type": "execute_result"
    }
   ],
   "source": [
    "virus_data['Flaviviridae'].groupby('Geographical Range').size().sort_values(ascending=False)\n"
   ]
  },
  {
   "cell_type": "code",
   "execution_count": 145,
   "metadata": {},
   "outputs": [
    {
     "data": {
      "text/plain": [
       "Continent\n",
       "africa      36\n",
       "asia        36\n",
       "americas    24\n",
       "europe      14\n",
       "oceania     12\n",
       "unknown     12\n",
       "various      3\n",
       "global       2\n",
       "dtype: int64"
      ]
     },
     "execution_count": 145,
     "metadata": {},
     "output_type": "execute_result"
    }
   ],
   "source": [
    "virus_data['Flaviviridae'].groupby('Continent').size().sort_values(ascending=False)"
   ]
  },
  {
   "cell_type": "code",
   "execution_count": 146,
   "metadata": {},
   "outputs": [
    {
     "name": "stdout",
     "output_type": "stream",
     "text": [
      "Animal host\n",
      "birds         32\n",
      "rodents       32\n",
      "bats          22\n",
      "nan           13\n",
      "livestock     11\n",
      "primates      11\n",
      "unknown        9\n",
      "marsupials     5\n",
      "cervids        2\n",
      "ticks          2\n",
      "dtype: int64\n"
     ]
    }
   ],
   "source": [
    "print(virus_data['Flaviviridae'].groupby('Animal host').size().sort_values(ascending=False))"
   ]
  },
  {
   "cell_type": "code",
   "execution_count": 147,
   "metadata": {},
   "outputs": [
    {
     "data": {
      "image/png": "[encoded data removed]",
      "text/plain": [
       "<Figure size 1000x800 with 1 Axes>"
      ]
     },
     "metadata": {},
     "output_type": "display_data"
    }
   ],
   "source": [
    "import matplotlib.pyplot as plt\n",
    "virus_crosstab = pd.crosstab(virus_data['Flaviviridae']['Animal host'], virus_data['Flaviviridae']['Continent'])\n",
    "\n",
    "# Melt the crosstabbed DataFrame to have 'Continent', 'Animal host', and 'Count' columns\n",
    "virus_melted = virus_crosstab.reset_index().melt(id_vars='Animal host', var_name='Continent', value_name='Count')\n",
    "\n",
    "# Now plot with seaborn\n",
    "plt.figure(figsize=(10,8))\n",
    "sns.barplot(x='Animal host', y='Count', hue='Continent', data=virus_melted)\n",
    "\n",
    "# Improve Aesthetics\n",
    "plt.xticks(rotation=45) # Rotate x-axis labels for better visibility if needed\n",
    "plt.title('Count of Flaviviridae by Animal Host and Continent')\n",
    "plt.legend(title='Continent', bbox_to_anchor=(1.05, 1), loc=2) # Move the legend out of the plot\n",
    "\n",
    "# Show the plot\n",
    "plt.tight_layout()\n",
    "plt.show()"
   ]
  },
  {
   "cell_type": "code",
   "execution_count": 148,
   "metadata": {},
   "outputs": [
    {
     "data": {
      "image/png": "[encoded data removed]",
      "text/plain": [
       "<Figure size 1000x800 with 1 Axes>"
      ]
     },
     "metadata": {},
     "output_type": "display_data"
    }
   ],
   "source": [
    "plt.figure(figsize=(10,8))\n",
    "sns.barplot(x='Continent', y='Count', hue='Animal host', data=virus_melted,)\n",
    "\n",
    "# Improve Aesthetics\n",
    "plt.xticks(rotation=45) # Adjust rotation for better label readability if needed\n",
    "plt.title('Count of Flaviviridae by Continent and Animal Host')\n",
    "plt.legend(title='Animal Host', bbox_to_anchor=(1.05, 1), loc=2) # Move the legend out of the plot\n",
    "\n",
    "# Show the plot\n",
    "plt.tight_layout()\n",
    "plt.show()"
   ]
  },
  {
   "cell_type": "code",
   "execution_count": 149,
   "metadata": {},
   "outputs": [
    {
     "data": {
      "image/png": "[encoded data removed]",
      "text/plain": [
       "<Figure size 1200x600 with 1 Axes>"
      ]
     },
     "metadata": {},
     "output_type": "display_data"
    }
   ],
   "source": [
    "plt.figure(figsize=(12, 6))\n",
    "sns.countplot(data=virus_data['Flaviviridae'], x='Animal host', order=virus_data['Flaviviridae']['Animal host'].value_counts().index, color='steelblue')\n",
    "plt.xticks(rotation=45)\n",
    "plt.xlabel('Animal Host')\n",
    "plt.ylabel('Count')\n",
    "plt.title('Count of Flaviviridae by Animal Host')\n",
    "plt.tight_layout()\n",
    "plt.show()"
   ]
  },
  {
   "cell_type": "markdown",
   "metadata": {},
   "source": [
    "Can you send us the first two graphs as they are\n",
    "1. Visualization of second graph with updated table info\n",
    "2. Graph of animal hosts alone\n",
    "3. Graph of animal hosts with vector groupings"
   ]
  },
  {
   "cell_type": "code",
   "execution_count": 126,
   "metadata": {},
   "outputs": [],
   "source": [
    "# Assuming virus_data['Flaviviridae'] is correctly defined and cleaned as above\n",
    "df = virus_data['Flaviviridae']"
   ]
  },
  {
   "cell_type": "code",
   "execution_count": 127,
   "metadata": {},
   "outputs": [
    {
     "name": "stdout",
     "output_type": "stream",
     "text": [
      "['tickborne' 'mosquitoborne' 'unknown' 'nan' 'blood exposure']\n"
     ]
    }
   ],
   "source": [
    "# Assuming virus_data['Flaviviridae'] is your DataFrame\n",
    "\n",
    "# Clean the 'Mode of Transmission' column\n",
    "virus_data['Flaviviridae']['Mode of Transmission'] = (\n",
    "    virus_data['Flaviviridae']['Mode of Transmission']\n",
    "    .astype(str)\n",
    "    .str.replace(r\"\\(.*?\\)|\\s*\\[.*?\\]\", \"\", regex=True)  # Remove text within parentheses/brackets\n",
    "    .str.strip()  # Remove any leading/trailing whitespace\n",
    "    .str.lower()  # Convert to lowercase\n",
    ")\n",
    "\n",
    "# Confirm cleaning\n",
    "print(virus_data['Flaviviridae']['Mode of Transmission'].unique())"
   ]
  },
  {
   "cell_type": "code",
   "execution_count": 138,
   "metadata": {},
   "outputs": [
    {
     "data": {
      "application/vnd.plotly.v1+json": {
       "config": {
        "plotlyServerURL": "https://plot.ly"
       },
       "data": [
        {
         "link": {
          "color": [
           "blue",
           "grey",
           "blue",
           "green",
           "green",
           "green",
           "blue",
           "green",
           "blue",
           "black",
           "blue",
           "black",
           "blue",
           "blue",
           "green",
           "blue",
           "green",
           "grey",
           "green",
           "blue",
           "green"
          ],
          "source": [
           0,
           0,
           1,
           1,
           2,
           3,
           4,
           4,
           5,
           6,
           6,
           6,
           7,
           8,
           8,
           9,
           9,
           9,
           10,
           11,
           11
          ],
          "target": [
           12,
           13,
           12,
           14,
           14,
           14,
           12,
           14,
           12,
           15,
           12,
           16,
           12,
           12,
           14,
           12,
           14,
           13,
           14,
           12,
           14
          ],
          "value": [
           3,
           19,
           25,
           7,
           2,
           1,
           3,
           7,
           5,
           1,
           1,
           11,
           2,
           7,
           2,
           13,
           12,
           7,
           2,
           7,
           2
          ]
         },
         "node": {
          "label": [
           "bats",
           "birds",
           "cervids",
           "fur seals",
           "livestock",
           "marsupials",
           "nan",
           "non-human primates",
           "primates",
           "rodents",
           "ticks",
           "unknown",
           "mosquitoborne",
           "unknown",
           "tickborne",
           "blood exposure",
           "nan"
          ],
          "line": {
           "color": "black",
           "width": 0.5
          },
          "pad": 15,
          "thickness": 10
         },
         "type": "sankey"
        }
       ],
       "layout": {
        "font": {
         "size": 10
        },
        "template": {
         "data": {
          "bar": [
           {
            "error_x": {
             "color": "#2a3f5f"
            },
            "error_y": {
             "color": "#2a3f5f"
            },
            "marker": {
             "line": {
              "color": "#E5ECF6",
              "width": 0.5
             },
             "pattern": {
              "fillmode": "overlay",
              "size": 10,
              "solidity": 0.2
             }
            },
            "type": "bar"
           }
          ],
          "barpolar": [
           {
            "marker": {
             "line": {
              "color": "#E5ECF6",
              "width": 0.5
             },
             "pattern": {
              "fillmode": "overlay",
              "size": 10,
              "solidity": 0.2
             }
            },
            "type": "barpolar"
           }
          ],
          "carpet": [
           {
            "aaxis": {
             "endlinecolor": "#2a3f5f",
             "gridcolor": "white",
             "linecolor": "white",
             "minorgridcolor": "white",
             "startlinecolor": "#2a3f5f"
            },
            "baxis": {
             "endlinecolor": "#2a3f5f",
             "gridcolor": "white",
             "linecolor": "white",
             "minorgridcolor": "white",
             "startlinecolor": "#2a3f5f"
            },
            "type": "carpet"
           }
          ],
          "choropleth": [
           {
            "colorbar": {
             "outlinewidth": 0,
             "ticks": ""
            },
            "type": "choropleth"
           }
          ],
          "contour": [
           {
            "colorbar": {
             "outlinewidth": 0,
             "ticks": ""
            },
            "colorscale": [
             [
              0,
              "#0d0887"
             ],
             [
              0.1111111111111111,
              "#46039f"
             ],
             [
              0.2222222222222222,
              "#7201a8"
             ],
             [
              0.3333333333333333,
              "#9c179e"
             ],
             [
              0.4444444444444444,
              "#bd3786"
             ],
             [
              0.5555555555555556,
              "#d8576b"
             ],
             [
              0.6666666666666666,
              "#ed7953"
             ],
             [
              0.7777777777777778,
              "#fb9f3a"
             ],
             [
              0.8888888888888888,
              "#fdca26"
             ],
             [
              1,
              "#f0f921"
             ]
            ],
            "type": "contour"
           }
          ],
          "contourcarpet": [
           {
            "colorbar": {
             "outlinewidth": 0,
             "ticks": ""
            },
            "type": "contourcarpet"
           }
          ],
          "heatmap": [
           {
            "colorbar": {
             "outlinewidth": 0,
             "ticks": ""
            },
            "colorscale": [
             [
              0,
              "#0d0887"
             ],
             [
              0.1111111111111111,
              "#46039f"
             ],
             [
              0.2222222222222222,
              "#7201a8"
             ],
             [
              0.3333333333333333,
              "#9c179e"
             ],
             [
              0.4444444444444444,
              "#bd3786"
             ],
             [
              0.5555555555555556,
              "#d8576b"
             ],
             [
              0.6666666666666666,
              "#ed7953"
             ],
             [
              0.7777777777777778,
              "#fb9f3a"
             ],
             [
              0.8888888888888888,
              "#fdca26"
             ],
             [
              1,
              "#f0f921"
             ]
            ],
            "type": "heatmap"
           }
          ],
          "heatmapgl": [
           {
            "colorbar": {
             "outlinewidth": 0,
             "ticks": ""
            },
            "colorscale": [
             [
              0,
              "#0d0887"
             ],
             [
              0.1111111111111111,
              "#46039f"
             ],
             [
              0.2222222222222222,
              "#7201a8"
             ],
             [
              0.3333333333333333,
              "#9c179e"
             ],
             [
              0.4444444444444444,
              "#bd3786"
             ],
             [
              0.5555555555555556,
              "#d8576b"
             ],
             [
              0.6666666666666666,
              "#ed7953"
             ],
             [
              0.7777777777777778,
              "#fb9f3a"
             ],
             [
              0.8888888888888888,
              "#fdca26"
             ],
             [
              1,
              "#f0f921"
             ]
            ],
            "type": "heatmapgl"
           }
          ],
          "histogram": [
           {
            "marker": {
             "pattern": {
              "fillmode": "overlay",
              "size": 10,
              "solidity": 0.2
             }
            },
            "type": "histogram"
           }
          ],
          "histogram2d": [
           {
            "colorbar": {
             "outlinewidth": 0,
             "ticks": ""
            },
            "colorscale": [
             [
              0,
              "#0d0887"
             ],
             [
              0.1111111111111111,
              "#46039f"
             ],
             [
              0.2222222222222222,
              "#7201a8"
             ],
             [
              0.3333333333333333,
              "#9c179e"
             ],
             [
              0.4444444444444444,
              "#bd3786"
             ],
             [
              0.5555555555555556,
              "#d8576b"
             ],
             [
              0.6666666666666666,
              "#ed7953"
             ],
             [
              0.7777777777777778,
              "#fb9f3a"
             ],
             [
              0.8888888888888888,
              "#fdca26"
             ],
             [
              1,
              "#f0f921"
             ]
            ],
            "type": "histogram2d"
           }
          ],
          "histogram2dcontour": [
           {
            "colorbar": {
             "outlinewidth": 0,
             "ticks": ""
            },
            "colorscale": [
             [
              0,
              "#0d0887"
             ],
             [
              0.1111111111111111,
              "#46039f"
             ],
             [
              0.2222222222222222,
              "#7201a8"
             ],
             [
              0.3333333333333333,
              "#9c179e"
             ],
             [
              0.4444444444444444,
              "#bd3786"
             ],
             [
              0.5555555555555556,
              "#d8576b"
             ],
             [
              0.6666666666666666,
              "#ed7953"
             ],
             [
              0.7777777777777778,
              "#fb9f3a"
             ],
             [
              0.8888888888888888,
              "#fdca26"
             ],
             [
              1,
              "#f0f921"
             ]
            ],
            "type": "histogram2dcontour"
           }
          ],
          "mesh3d": [
           {
            "colorbar": {
             "outlinewidth": 0,
             "ticks": ""
            },
            "type": "mesh3d"
           }
          ],
          "parcoords": [
           {
            "line": {
             "colorbar": {
              "outlinewidth": 0,
              "ticks": ""
             }
            },
            "type": "parcoords"
           }
          ],
          "pie": [
           {
            "automargin": true,
            "type": "pie"
           }
          ],
          "scatter": [
           {
            "fillpattern": {
             "fillmode": "overlay",
             "size": 10,
             "solidity": 0.2
            },
            "type": "scatter"
           }
          ],
          "scatter3d": [
           {
            "line": {
             "colorbar": {
              "outlinewidth": 0,
              "ticks": ""
             }
            },
            "marker": {
             "colorbar": {
              "outlinewidth": 0,
              "ticks": ""
             }
            },
            "type": "scatter3d"
           }
          ],
          "scattercarpet": [
           {
            "marker": {
             "colorbar": {
              "outlinewidth": 0,
              "ticks": ""
             }
            },
            "type": "scattercarpet"
           }
          ],
          "scattergeo": [
           {
            "marker": {
             "colorbar": {
              "outlinewidth": 0,
              "ticks": ""
             }
            },
            "type": "scattergeo"
           }
          ],
          "scattergl": [
           {
            "marker": {
             "colorbar": {
              "outlinewidth": 0,
              "ticks": ""
             }
            },
            "type": "scattergl"
           }
          ],
          "scattermapbox": [
           {
            "marker": {
             "colorbar": {
              "outlinewidth": 0,
              "ticks": ""
             }
            },
            "type": "scattermapbox"
           }
          ],
          "scatterpolar": [
           {
            "marker": {
             "colorbar": {
              "outlinewidth": 0,
              "ticks": ""
             }
            },
            "type": "scatterpolar"
           }
          ],
          "scatterpolargl": [
           {
            "marker": {
             "colorbar": {
              "outlinewidth": 0,
              "ticks": ""
             }
            },
            "type": "scatterpolargl"
           }
          ],
          "scatterternary": [
           {
            "marker": {
             "colorbar": {
              "outlinewidth": 0,
              "ticks": ""
             }
            },
            "type": "scatterternary"
           }
          ],
          "surface": [
           {
            "colorbar": {
             "outlinewidth": 0,
             "ticks": ""
            },
            "colorscale": [
             [
              0,
              "#0d0887"
             ],
             [
              0.1111111111111111,
              "#46039f"
             ],
             [
              0.2222222222222222,
              "#7201a8"
             ],
             [
              0.3333333333333333,
              "#9c179e"
             ],
             [
              0.4444444444444444,
              "#bd3786"
             ],
             [
              0.5555555555555556,
              "#d8576b"
             ],
             [
              0.6666666666666666,
              "#ed7953"
             ],
             [
              0.7777777777777778,
              "#fb9f3a"
             ],
             [
              0.8888888888888888,
              "#fdca26"
             ],
             [
              1,
              "#f0f921"
             ]
            ],
            "type": "surface"
           }
          ],
          "table": [
           {
            "cells": {
             "fill": {
              "color": "#EBF0F8"
             },
             "line": {
              "color": "white"
             }
            },
            "header": {
             "fill": {
              "color": "#C8D4E3"
             },
             "line": {
              "color": "white"
             }
            },
            "type": "table"
           }
          ]
         },
         "layout": {
          "annotationdefaults": {
           "arrowcolor": "#2a3f5f",
           "arrowhead": 0,
           "arrowwidth": 1
          },
          "autotypenumbers": "strict",
          "coloraxis": {
           "colorbar": {
            "outlinewidth": 0,
            "ticks": ""
           }
          },
          "colorscale": {
           "diverging": [
            [
             0,
             "#8e0152"
            ],
            [
             0.1,
             "#c51b7d"
            ],
            [
             0.2,
             "#de77ae"
            ],
            [
             0.3,
             "#f1b6da"
            ],
            [
             0.4,
             "#fde0ef"
            ],
            [
             0.5,
             "#f7f7f7"
            ],
            [
             0.6,
             "#e6f5d0"
            ],
            [
             0.7,
             "#b8e186"
            ],
            [
             0.8,
             "#7fbc41"
            ],
            [
             0.9,
             "#4d9221"
            ],
            [
             1,
             "#276419"
            ]
           ],
           "sequential": [
            [
             0,
             "#0d0887"
            ],
            [
             0.1111111111111111,
             "#46039f"
            ],
            [
             0.2222222222222222,
             "#7201a8"
            ],
            [
             0.3333333333333333,
             "#9c179e"
            ],
            [
             0.4444444444444444,
             "#bd3786"
            ],
            [
             0.5555555555555556,
             "#d8576b"
            ],
            [
             0.6666666666666666,
             "#ed7953"
            ],
            [
             0.7777777777777778,
             "#fb9f3a"
            ],
            [
             0.8888888888888888,
             "#fdca26"
            ],
            [
             1,
             "#f0f921"
            ]
           ],
           "sequentialminus": [
            [
             0,
             "#0d0887"
            ],
            [
             0.1111111111111111,
             "#46039f"
            ],
            [
             0.2222222222222222,
             "#7201a8"
            ],
            [
             0.3333333333333333,
             "#9c179e"
            ],
            [
             0.4444444444444444,
             "#bd3786"
            ],
            [
             0.5555555555555556,
             "#d8576b"
            ],
            [
             0.6666666666666666,
             "#ed7953"
            ],
            [
             0.7777777777777778,
             "#fb9f3a"
            ],
            [
             0.8888888888888888,
             "#fdca26"
            ],
            [
             1,
             "#f0f921"
            ]
           ]
          },
          "colorway": [
           "#636efa",
           "#EF553B",
           "#00cc96",
           "#ab63fa",
           "#FFA15A",
           "#19d3f3",
           "#FF6692",
           "#B6E880",
           "#FF97FF",
           "#FECB52"
          ],
          "font": {
           "color": "#2a3f5f"
          },
          "geo": {
           "bgcolor": "white",
           "lakecolor": "white",
           "landcolor": "#E5ECF6",
           "showlakes": true,
           "showland": true,
           "subunitcolor": "white"
          },
          "hoverlabel": {
           "align": "left"
          },
          "hovermode": "closest",
          "mapbox": {
           "style": "light"
          },
          "paper_bgcolor": "white",
          "plot_bgcolor": "#E5ECF6",
          "polar": {
           "angularaxis": {
            "gridcolor": "white",
            "linecolor": "white",
            "ticks": ""
           },
           "bgcolor": "#E5ECF6",
           "radialaxis": {
            "gridcolor": "white",
            "linecolor": "white",
            "ticks": ""
           }
          },
          "scene": {
           "xaxis": {
            "backgroundcolor": "#E5ECF6",
            "gridcolor": "white",
            "gridwidth": 2,
            "linecolor": "white",
            "showbackground": true,
            "ticks": "",
            "zerolinecolor": "white"
           },
           "yaxis": {
            "backgroundcolor": "#E5ECF6",
            "gridcolor": "white",
            "gridwidth": 2,
            "linecolor": "white",
            "showbackground": true,
            "ticks": "",
            "zerolinecolor": "white"
           },
           "zaxis": {
            "backgroundcolor": "#E5ECF6",
            "gridcolor": "white",
            "gridwidth": 2,
            "linecolor": "white",
            "showbackground": true,
            "ticks": "",
            "zerolinecolor": "white"
           }
          },
          "shapedefaults": {
           "line": {
            "color": "#2a3f5f"
           }
          },
          "ternary": {
           "aaxis": {
            "gridcolor": "white",
            "linecolor": "white",
            "ticks": ""
           },
           "baxis": {
            "gridcolor": "white",
            "linecolor": "white",
            "ticks": ""
           },
           "bgcolor": "#E5ECF6",
           "caxis": {
            "gridcolor": "white",
            "linecolor": "white",
            "ticks": ""
           }
          },
          "title": {
           "x": 0.05
          },
          "xaxis": {
           "automargin": true,
           "gridcolor": "white",
           "linecolor": "white",
           "ticks": "",
           "title": {
            "standoff": 15
           },
           "zerolinecolor": "white",
           "zerolinewidth": 2
          },
          "yaxis": {
           "automargin": true,
           "gridcolor": "white",
           "linecolor": "white",
           "ticks": "",
           "title": {
            "standoff": 15
           },
           "zerolinecolor": "white",
           "zerolinewidth": 2
          }
         }
        },
        "title": {
         "text": "Sankey Diagram of Animal Hosts and Mode of Transmission"
        }
       }
      }
     },
     "metadata": {},
     "output_type": "display_data"
    }
   ],
   "source": [
    "import pandas as pd\n",
    "import plotly.graph_objects as go\n",
    "\n",
    "# Create a frequency table for 'Animal host' and 'Mode of Transmission'\n",
    "frequency_table = df.groupby(['Animal host', 'Mode of Transmission']).size().reset_index(name='Count')\n",
    "\n",
    "mode_colors = {\n",
    "    'mosquitoborne': 'blue',\n",
    "    'tickborne': 'green',\n",
    "    'unknown': 'grey',\n",
    "    'nan': 'black',\n",
    "    'blood-exposure': 'red'\n",
    "}\n",
    "\n",
    "# Create lists of unique 'Animal hosts' and 'Mode of Transmission'\n",
    "animal_hosts = frequency_table['Animal host'].unique().tolist()\n",
    "modes_of_transmission = frequency_table['Mode of Transmission'].unique().tolist()\n",
    "\n",
    "# Initialize lists to hold our sources, targets, and values for the Sankey diagram\n",
    "sources = []\n",
    "targets = []\n",
    "values = []\n",
    "\n",
    "link_color_list = []\n",
    "\n",
    "# Fill in the link colors based on 'Mode of Transmission'\n",
    "for _, row in frequency_table.iterrows():\n",
    "    # Use the mode to get the corresponding color, default to black if not found\n",
    "    link_color_list.append(mode_colors.get(row['Mode of Transmission'], 'black'))\n",
    "\n",
    "# Create a Sankey diagram\n",
    "fig = go.Figure(data=[go.Sankey(\n",
    "    node=dict(\n",
    "      pad=15,\n",
    "      thickness=10,\n",
    "      line=dict(color=\"black\", width=0.5),\n",
    "      label=animal_hosts + modes_of_transmission,\n",
    "    ),\n",
    "    link=dict(\n",
    "      source=[animal_hosts.index(src) for src in frequency_table['Animal host']],\n",
    "      target=[len(animal_hosts) + modes_of_transmission.index(tgt) for tgt in frequency_table['Mode of Transmission']],\n",
    "      value=frequency_table['Count'].tolist(),\n",
    "      color=link_color_list,\n",
    "    ))])\n",
    "\n",
    "fig.update_layout(title_text=\"Sankey Diagram of Animal Hosts and Mode of Transmission\", font_size=10)\n",
    "fig.show()\n",
    "\n"
   ]
  },
  {
   "cell_type": "code",
   "execution_count": 150,
   "metadata": {},
   "outputs": [],
   "source": [
    "# Assuming virus_data['Flaviviridae'] is your cleaned DataFrame\n",
    "virus_data['Flaviviridae'].to_csv('cleaned_data.csv', index=False)\n"
   ]
  },
  {
   "cell_type": "code",
   "execution_count": null,
   "metadata": {},
   "outputs": [],
   "source": []
  }
 ],
 "metadata": {
  "kernelspec": {
   "display_name": ".venv",
   "language": "python",
   "name": "python3"
  },
  "language_info": {
   "codemirror_mode": {
    "name": "ipython",
    "version": 3
   },
   "file_extension": ".py",
   "mimetype": "text/x-python",
   "name": "python",
   "nbconvert_exporter": "python",
   "pygments_lexer": "ipython3",
   "version": "3.11.5"
  }
 },
 "nbformat": 4,
 "nbformat_minor": 2
}
